{
 "cells": [
  {
   "cell_type": "code",
   "execution_count": 159,
   "metadata": {},
   "outputs": [
    {
     "data": {
      "text/plain": [
       "'\\nPython101 - Estrturas Condicionais e de repetição\\nBeecrowd Exercises\\nLink: https://www.beecrowd.com.br/judge/pt/problems/index/1\\n10 Exercícios\\nCod dos ex\\n1-\\t1035\\tSelection Test 1\\n2-\\t1038\\tSnack\\t\\n3-\\t1040\\tAverage 3\\n4-\\t1041\\tCoordenadas de um Ponto\\n5-\\t1045\\tTipos de triângulos\\n6-\\t1065\\tPares entre Cinco Números\\n7-\\t1067\\tNúmeros ímpares\\n8-\\t1072\\tIntervalo 2\\n'"
      ]
     },
     "execution_count": 159,
     "metadata": {},
     "output_type": "execute_result"
    }
   ],
   "source": [
    "'''\n",
    "Python101 - Estrturas Condicionais e de repetição\n",
    "Beecrowd Exercises\n",
    "Link: https://www.beecrowd.com.br/judge/pt/problems/index/1\n",
    "10 Exercícios\n",
    "Cod dos ex\n",
    "1-\t1035\tSelection Test 1\n",
    "2-\t1038\tSnack\t\n",
    "3-\t1040\tAverage 3\n",
    "4-\t1041\tCoordenadas de um Ponto\n",
    "5-\t1045\tTipos de triângulos\n",
    "6-\t1065\tPares entre Cinco Números\n",
    "7-\t1067\tNúmeros ímpares\n",
    "8-\t1072\tIntervalo 2\n",
    "'''"
   ]
  },
  {
   "cell_type": "code",
   "execution_count": 160,
   "metadata": {},
   "outputs": [],
   "source": [
    "\"1-\t1035\tSelection Test 1 \\n Read 4 integer values A, B, C and D. Then if B is greater than C and D is greater than A and if the sum of C and D is greater than the sum of A and B and if C and D were positives values and if A is even, write the message “Valores aceitos” (Accepted values). Otherwise, write the message “Valores nao aceitos” (Values not accepted).\"\n",
    "\n",
    "A = 2\n",
    "B = 3\n",
    "C = 2\n",
    "D = 6"
   ]
  },
  {
   "cell_type": "code",
   "execution_count": 161,
   "metadata": {},
   "outputs": [
    {
     "name": "stdout",
     "output_type": "stream",
     "text": [
      "Valores aceitos\n",
      "Valores aceitos\n",
      "Valores aceitos\n",
      "Valores aceitos\n",
      "Valores aceitos\n"
     ]
    }
   ],
   "source": [
    "if B > C:\n",
    "    print(\"Valores aceitos\")\n",
    "    if D > A:\n",
    "        print(\"Valores aceitos\")\n",
    "        if (C+D) > (A+B):\n",
    "            print(\"Valores aceitos\")\n",
    "            if (C and D) > 0:\n",
    "                print(\"Valores aceitos\")\n",
    "                if (A % 2) == 0:\n",
    "                    print(\"Valores aceitos\")\n",
    "else:\n",
    "    print(\"Valor não aceito\")"
   ]
  },
  {
   "cell_type": "code",
   "execution_count": 162,
   "metadata": {},
   "outputs": [
    {
     "name": "stdout",
     "output_type": "stream",
     "text": [
      "Valor aceito\n"
     ]
    }
   ],
   "source": [
    "if (B > C ) and (D > A) and ((C+D) > (A+B)) and ((C and D) > 0) and ((A % 2) == 0):\n",
    "    print (\"Valor aceito\")\n",
    "else:\n",
    "    print(\"Valor não aceito\")"
   ]
  },
  {
   "cell_type": "code",
   "execution_count": 163,
   "metadata": {},
   "outputs": [
    {
     "name": "stdout",
     "output_type": "stream",
     "text": [
      "Total R$ 25.0\n"
     ]
    }
   ],
   "source": [
    "'''\n",
    "2-\t1038\tSnack\n",
    "'''\n",
    "\n",
    "listaPRECO = {1:4.00, 2:4.50, 3:5.00, 4:2.00, 5:1.50}\n",
    "\n",
    "codigo = int(input(\"Codigo\"))\n",
    "quantidade = float(input(\"Quantidade\"))\n",
    "\n",
    "print(\"Total R$\", quantidade*listaPRECO[codigo])"
   ]
  },
  {
   "cell_type": "code",
   "execution_count": 37,
   "metadata": {},
   "outputs": [
    {
     "name": "stdout",
     "output_type": "stream",
     "text": [
      "Média: 5.40\n",
      "Aluno em Exame\n",
      "Nota Exame: 6.4\n",
      "Aluno Aprovado\n",
      "Média final 5.9\n"
     ]
    }
   ],
   "source": [
    "'''\n",
    "3-\t1040\tAverage 3\n",
    "'''\n",
    "\n",
    "nota1 = float(input(\"Nota 1\"))\n",
    "resultadoNOTA1 = (nota1*0.2)\n",
    "nota2 = float(input(\"Nota 2\"))\n",
    "resultadoNOTA2 = (nota2*0.3)\n",
    "nota3 = float(input(\"Nota 3\"))\n",
    "resultadoNOTA3 = (nota3*0.4)\n",
    "nota4 = float(input(\"Nota 4\"))\n",
    "resultadoNOTA4 = (nota4*0.1)\n",
    "\n",
    "media = (resultadoNOTA1 + resultadoNOTA2 + resultadoNOTA3 + resultadoNOTA4)\n",
    "\n",
    "print(\"Média: {:.2f}\".format(media))\n",
    "if media >= 7.0:\n",
    "    print(\"Aluno aprovado\")\n",
    "elif 5 < media <= 6.9:\n",
    "    print(\"Aluno em Exame\")\n",
    "    notaEXAME = float(input(\"Nota Exame:\"))\n",
    "    print(\"Nota Exame:\", notaEXAME)\n",
    "    if ((media + notaEXAME)/2) >= 5.0:\n",
    "        print(\"Aluno Aprovado\")\n",
    "        print(\"Média final\", (media+notaEXAME)/2)\n",
    "else:\n",
    "    print(\"Aluno reprovado\")\n",
    "\n"
   ]
  },
  {
   "cell_type": "code",
   "execution_count": 165,
   "metadata": {},
   "outputs": [
    {
     "name": "stdout",
     "output_type": "stream",
     "text": [
      "Q1\n"
     ]
    }
   ],
   "source": [
    "'''\n",
    "4-\t1041\tCoordenadas de um Ponto\n",
    "'''\n",
    "\n",
    "numUM = float(input(\"Valor x\"))\n",
    "numDOIS = float(input(\"Valor y\"))\n",
    "\n",
    "if numUM == 0 and numDOIS == 0:\n",
    "    print(\"Origem\")\n",
    "elif numUM >= 0 and numDOIS >= 0:\n",
    "    print(\"Q1\")\n",
    "elif numUM <= 0 and numDOIS >= 0:\n",
    "    print(\"Q2\")\n",
    "elif numUM <= 0 and numDOIS <= 0:\n",
    "    print(\"Q3\")\n",
    "elif numUM >= 0 and numDOIS <= 0:\n",
    "    print(\"Q4\")"
   ]
  },
  {
   "cell_type": "code",
   "execution_count": 166,
   "metadata": {},
   "outputs": [
    {
     "name": "stdout",
     "output_type": "stream",
     "text": [
      "TRIANGULO ACUTANGULO\n",
      "TRIANGULO EQUILATERO\n"
     ]
    }
   ],
   "source": [
    "'''\n",
    "5-\t1045\tTipos de triângulos\n",
    "'''\n",
    "\n",
    "valorA = float(input(\"Valor A\"))\n",
    "valorB = float(input(\"Valor B\"))\n",
    "valorC = float(input(\"Valor c\"))\n",
    "\n",
    "#imaginando os inputs valorA = 1, valorB = 2, valorC = 3\n",
    "\n",
    "if (valorA < valorB): #valorA recebe 1, valorB recebe 2\n",
    "    temp = valorA #TEMP recebe 1\n",
    "    valorA = valorB #ValorA com valor 1 passa a recebero valor 2\n",
    "    valorB = temp #valorB com valor 2 passa a recebero valor 1\n",
    "\n",
    "# ANTES: valorA = 1, valorB = 2\n",
    "# DEPOIS: valorA = 2, valorB = 1\n",
    "\n",
    "if (valorB < valorC): #valorB = 1, valorC = 3\n",
    "    temp = valorC #TEMP que estava com o valor 1, passa a receber o valor 3\n",
    "    valorC = valorB #ValorC com valor 3 passa a recebero valor 1\n",
    "    valorB = temp #valorB com valor 1 passa a recebero valor 3\n",
    "\n",
    "# ANTES: valorB = 1, valorC = 3\n",
    "# DEPOIS: valorB = 3, valorC = 1\n",
    "\n",
    "if (valorA < valorB): #valorA = 2, valorB = 3\n",
    "    temp = valorA #TEMP que estava com o valor 3, passa a receber o valor 2\n",
    "    valorA = valorB #ValorB com valor 3 passa a recebero valor 2\n",
    "    valorB = temp #valorB com valor 3 passa a recebero valor 2\n",
    "\n",
    "# ANTES: valorB = 3, valorA = 2\n",
    "# DEPOIS: valorB = 2, valorA = 3\n",
    "\n",
    "if valorA >= (valorB + valorC):\n",
    "    print(\"NÃO FORMA TRIANGULO\")\n",
    "elif valorA**2 == (valorB**2 + valorC**2):\n",
    "    print(\"TRIANGULO RETANGULO\")\n",
    "elif valorA**2 > (valorB**2 + valorC**2):\n",
    "    print(\"TRIANGULO OBTUSANGULO\")\n",
    "elif valorA**2 < (valorB**2 + valorC**2):\n",
    "    print(\"TRIANGULO ACUTANGULO\")\n",
    "\n",
    "if (valorA != valorB != valorC):\n",
    "    print(\"TRIANGULO ISOSCELES\")\n",
    "else:\n",
    "    print(\"TRIANGULO EQUILATERO\")"
   ]
  },
  {
   "cell_type": "code",
   "execution_count": 167,
   "metadata": {},
   "outputs": [
    {
     "name": "stdout",
     "output_type": "stream",
     "text": [
      "3 Valores Pares\n"
     ]
    }
   ],
   "source": [
    "'''\n",
    "6-\t1065\tPares entre Cinco Números\n",
    "'''\n",
    "\n",
    "numeros = [7, -5, 6, -4, 12]\n",
    "numerosPares = 0\n",
    "\n",
    "for x in numeros:\n",
    "\n",
    "    if x % 2 == 0:\n",
    "        numerosPares += 1\n",
    "\n",
    "print(numerosPares,\"Valores Pares\")"
   ]
  },
  {
   "cell_type": "code",
   "execution_count": 170,
   "metadata": {},
   "outputs": [
    {
     "name": "stdout",
     "output_type": "stream",
     "text": [
      "1\n",
      "3\n",
      "5\n",
      "7\n"
     ]
    }
   ],
   "source": [
    "'''\n",
    "7-\t1067\tNúmeros ímpares\n",
    "'''\n",
    "\n",
    "numeros = int(input(\"Numero\"))\n",
    "\n",
    "for x in range(numeros):\n",
    "\n",
    "    if x % 2 == 1:\n",
    "        print(x)"
   ]
  },
  {
   "cell_type": "code",
   "execution_count": 11,
   "metadata": {},
   "outputs": [
    {
     "name": "stdout",
     "output_type": "stream",
     "text": [
      "2 in\n",
      "3 out\n"
     ]
    }
   ],
   "source": [
    "'''\n",
    "8-\t1072\tIntervalo 2\n",
    "'''\n",
    "\n",
    "N = [4, 14, 123, 10, -25]\n",
    "dentro = 0 \n",
    "fora = 0\n",
    "\n",
    "for x in N:\n",
    "    if 10 <= x <= 20:\n",
    "        dentro +=1\n",
    "    else:\n",
    "        fora +=1\n",
    "\n",
    "print(dentro, \"in\")\n",
    "print(fora, \"out\")"
   ]
  },
  {
   "cell_type": "code",
   "execution_count": null,
   "metadata": {},
   "outputs": [],
   "source": []
  }
 ],
 "metadata": {
  "kernelspec": {
   "display_name": "Python 3.8.8 ('base')",
   "language": "python",
   "name": "python3"
  },
  "language_info": {
   "codemirror_mode": {
    "name": "ipython",
    "version": 3
   },
   "file_extension": ".py",
   "mimetype": "text/x-python",
   "name": "python",
   "nbconvert_exporter": "python",
   "pygments_lexer": "ipython3",
   "version": "3.8.8"
  },
  "orig_nbformat": 4,
  "vscode": {
   "interpreter": {
    "hash": "49090b419d86accb2bb3ea276a32b85e07f3d96f3af59363485bd70758ab8e95"
   }
  }
 },
 "nbformat": 4,
 "nbformat_minor": 2
}
