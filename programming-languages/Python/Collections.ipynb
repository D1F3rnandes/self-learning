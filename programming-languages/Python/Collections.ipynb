{
 "cells": [
  {
   "cell_type": "code",
   "execution_count": 90,
   "metadata": {},
   "outputs": [],
   "source": [
    "#CRIANDO UMA LISTA -----EXERCICO 1\n",
    "lista = [\"10! Excelente\", 10, 7, \"6! Pessima qualidade de entrega\", 3, 4, 9, 8, \"7! Atendimento ok\"]"
   ]
  },
  {
   "cell_type": "code",
   "execution_count": 91,
   "metadata": {},
   "outputs": [
    {
     "name": "stdout",
     "output_type": "stream",
     "text": [
      "['10! Excelente', 10, 7, '6! Pessima qualidade de entrega', 3, 4, 9, 8, '7! Atendimento ok', '8! Satisfeito']\n"
     ]
    }
   ],
   "source": [
    "#ADICIONANDO ITEM -----EXERCICO 1\n",
    "lista.append(\"8! Satisfeito\")\n",
    "print(lista)"
   ]
  },
  {
   "cell_type": "code",
   "execution_count": 92,
   "metadata": {},
   "outputs": [
    {
     "name": "stdout",
     "output_type": "stream",
     "text": [
      "['10! Excelente', 10, 7, '6! Pessima qualidade de entrega', 3, 4, 9, 8, '7! Atendimento ok', '8! Satisfeito', '7! Poderia melhorar tempo de entrega', 4, 7, 8, '10! Perfeito']\n"
     ]
    }
   ],
   "source": [
    "#Duvida RESOLVIDA -----EXERCICO 1\n",
    "lista_extend = [\"7! Poderia melhorar tempo de entrega\", 4, 7, 8, \"10! Perfeito\"]\n",
    "lista.extend(lista_extend)\n",
    "print(lista)"
   ]
  },
  {
   "cell_type": "code",
   "execution_count": 93,
   "metadata": {},
   "outputs": [
    {
     "name": "stdout",
     "output_type": "stream",
     "text": [
      "['10! Excelente', 10, 7, '6! Pessima qualidade de entrega', 3, 4, 9, 8, '7! Atendimento ok', '8! Satisfeito', '7! Poderia melhorar tempo de entrega', 4, 7, 8]\n"
     ]
    }
   ],
   "source": [
    "#REMOVENDO ITEM -----EXERCICO 1\n",
    "lista.remove(\"10! Perfeito\")\n",
    "print(lista)"
   ]
  },
  {
   "cell_type": "code",
   "execution_count": 94,
   "metadata": {},
   "outputs": [
    {
     "name": "stdout",
     "output_type": "stream",
     "text": [
      "{'Jessica', 'Yasmin', 'Sara', 'Pedro', 'Diego'}\n"
     ]
    }
   ],
   "source": [
    "#SORTEAÇÕES -----EXERCICO 2\n",
    "set = {\"Jessica\", \"Diego\", \"Yasmin\", \"Sara\", \"Pedro\"}\n",
    "print(set)"
   ]
  },
  {
   "cell_type": "code",
   "execution_count": 95,
   "metadata": {},
   "outputs": [
    {
     "name": "stdout",
     "output_type": "stream",
     "text": [
      "{'Jessica', 'Carlos', 'Yasmin', 'Sara', 'Pedro', 'Diego'}\n"
     ]
    }
   ],
   "source": [
    "#ADD -----EXERCICO 2\n",
    "set.add(\"Carlos\")\n",
    "print(set)"
   ]
  },
  {
   "cell_type": "code",
   "execution_count": 96,
   "metadata": {},
   "outputs": [
    {
     "name": "stdout",
     "output_type": "stream",
     "text": [
      "{'Jessica', 'Eduardo', 'Maria', 'Carlos', 'Yasmin', 'Sara', 'Amanda', 'Pedro', 'Diego'}\n"
     ]
    }
   ],
   "source": [
    "#ADD E SORTEANDO-----EXERCICO 2\n",
    "set2 = [\"Eduardo\", \"Maria\", \"Amanda\"]\n",
    "set.update(set2)\n",
    "print(set)"
   ]
  },
  {
   "cell_type": "code",
   "execution_count": 97,
   "metadata": {},
   "outputs": [
    {
     "name": "stdout",
     "output_type": "stream",
     "text": [
      "('Iguape', 'Itapeva', 'Itapetininga', 'Eldorado', 'Capão Bonito', 'Barretos', 'Teodoro Sampaio', 'São Paulo', 'Botucatu')\n"
     ]
    }
   ],
   "source": [
    "#COLECINAVEIS SEM ALTERAÇÃO ---- EXERCIO 3\n",
    "tupla = (\"Iguape\",\"Itapeva\",\"Itapetininga\",\"Eldorado\",\"Capão Bonito\",\"Barretos\",\"Teodoro Sampaio\",\"São Paulo\",\"Botucatu\")\n",
    "print(tupla)"
   ]
  },
  {
   "cell_type": "code",
   "execution_count": 98,
   "metadata": {},
   "outputs": [
    {
     "name": "stdout",
     "output_type": "stream",
     "text": [
      "SP\n"
     ]
    }
   ],
   "source": [
    "#DICIONARIO ------- EXERCICIOS 4\n",
    "dict = {\"São Paulo\":\"SP\",\n",
    "\"Rio de Janeiro\":\"RJ\",\n",
    "\"Minas Gerais\":\"MG\"}\n",
    "print(dict[\"São Paulo\"])"
   ]
  },
  {
   "cell_type": "code",
   "execution_count": 99,
   "metadata": {},
   "outputs": [
    {
     "name": "stdout",
     "output_type": "stream",
     "text": [
      "{'Carro': 'Mustang', 'Ano de Fabricação': 1969, 'Marca': 'Ford'}\n",
      "{'Carro': 'Mustang', 'Ano de Fabricação': 1969, 'Marca': 'Ford', 'Cor': 'Vermelho'}\n"
     ]
    }
   ],
   "source": [
    "# ADICIONANDO ITEM AO DICIONARIO -------EXERCICIOS 5\n",
    "dict2 = {\"Carro\":\"Mustang\", \"Ano de Fabricação\":1969, \"Marca\":\"Ford\"}\n",
    "print(dict2)\n",
    "dict2.update({\"Cor\":\"Vermelho\"})\n",
    "print(dict2)"
   ]
  },
  {
   "cell_type": "code",
   "execution_count": 100,
   "metadata": {},
   "outputs": [
    {
     "name": "stdout",
     "output_type": "stream",
     "text": [
      "{'Carro': 'Mustang', 'Ano de Fabricação': 1969, 'Marca': 'Ford', 'Cor': 'Vermelho'}\n"
     ]
    }
   ],
   "source": [
    "dict2.update({\"Cor\":\"Vermelho\"})\n",
    "print(dict2)"
   ]
  },
  {
   "cell_type": "code",
   "execution_count": 101,
   "metadata": {},
   "outputs": [
    {
     "name": "stdout",
     "output_type": "stream",
     "text": [
      "{'Nome do filho': 'Vanessa', 'Ano de Nascimento': 2004}\n",
      "{'Nome do filho': 'João', 'Ano de Nascimento': 2007}\n",
      "{'Nome do filho': 'Erick', 'Ano de Nascimento': 2011}\n"
     ]
    }
   ],
   "source": [
    "#Varios dicionario em um dicionario apenas, e fazendo um unica seleção.\n",
    "dict3 = {'filho1': {'Nome do filho': 'Vanessa', 'Ano de Nascimento': 2004}, \n",
    "'filho2': {'Nome do filho': 'João', 'Ano de Nascimento': 2007}, \n",
    "'filho3': {'Nome do filho': 'Erick', 'Ano de Nascimento': 2011}}\n",
    "\n",
    "\n",
    "print(dict3[\"filho1\"])\n",
    "print(dict3[\"filho2\"])\n",
    "print(dict3[\"filho3\"])"
   ]
  },
  {
   "cell_type": "code",
   "execution_count": null,
   "metadata": {},
   "outputs": [],
   "source": []
  }
 ],
 "metadata": {
  "kernelspec": {
   "display_name": "Python 3.9.13 ('base')",
   "language": "python",
   "name": "python3"
  },
  "language_info": {
   "codemirror_mode": {
    "name": "ipython",
    "version": 3
   },
   "file_extension": ".py",
   "mimetype": "text/x-python",
   "name": "python",
   "nbconvert_exporter": "python",
   "pygments_lexer": "ipython3",
   "version": "3.9.13"
  },
  "orig_nbformat": 4,
  "vscode": {
   "interpreter": {
    "hash": "878da1b279abf09d06b935ceb9f68f83f69da699836aa8598526eb33b08a8d28"
   }
  }
 },
 "nbformat": 4,
 "nbformat_minor": 2
}
